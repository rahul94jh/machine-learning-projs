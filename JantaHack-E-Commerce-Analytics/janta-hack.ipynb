{
 "cells": [
  {
   "cell_type": "code",
   "execution_count": 1266,
   "metadata": {},
   "outputs": [],
   "source": [
    "import pandas as pd\n",
    "import numpy as np\n",
    "import matplotlib.pyplot as plt\n",
    "\n",
    "from sklearn.feature_extraction.text import CountVectorizer\n",
    "from sklearn.model_selection import train_test_split\n",
    "from sklearn.linear_model import LogisticRegression\n",
    "from sklearn.model_selection import cross_val_score, RepeatedStratifiedKFold\n",
    "\n",
    "import warnings\n",
    "warnings.filterwarnings(action='ignore')"
   ]
  },
  {
   "cell_type": "code",
   "execution_count": 1764,
   "metadata": {},
   "outputs": [],
   "source": [
    "def cross_val(model, X, y):\n",
    "    rskfold = RepeatedStratifiedKFold(n_splits=4, n_repeats=3, random_state=42)\n",
    "    scores = cross_val_score(model, X, y, cv=rskfold, scoring='accuracy')\n",
    "    print('CV score: {:.2%} (+/- {:.2})'.format(scores.mean(), scores.std()))"
   ]
  },
  {
   "cell_type": "code",
   "execution_count": 225,
   "metadata": {},
   "outputs": [],
   "source": [
    "path = 'data/'"
   ]
  },
  {
   "cell_type": "code",
   "execution_count": null,
   "metadata": {},
   "outputs": [],
   "source": [
    "!mkdir subms "
   ]
  },
  {
   "cell_type": "code",
   "execution_count": 226,
   "metadata": {},
   "outputs": [
    {
     "name": "stdout",
     "output_type": "stream",
     "text": [
      "test_Yix80N0.csv  train_8wry4cB.csv\r\n"
     ]
    }
   ],
   "source": [
    "!ls data/"
   ]
  },
  {
   "cell_type": "code",
   "execution_count": 1796,
   "metadata": {},
   "outputs": [
    {
     "data": {
      "text/html": [
       "<div>\n",
       "<style scoped>\n",
       "    .dataframe tbody tr th:only-of-type {\n",
       "        vertical-align: middle;\n",
       "    }\n",
       "\n",
       "    .dataframe tbody tr th {\n",
       "        vertical-align: top;\n",
       "    }\n",
       "\n",
       "    .dataframe thead th {\n",
       "        text-align: right;\n",
       "    }\n",
       "</style>\n",
       "<table border=\"1\" class=\"dataframe\">\n",
       "  <thead>\n",
       "    <tr style=\"text-align: right;\">\n",
       "      <th></th>\n",
       "      <th>session_id</th>\n",
       "      <th>startTime</th>\n",
       "      <th>endTime</th>\n",
       "      <th>ProductList</th>\n",
       "      <th>gender</th>\n",
       "    </tr>\n",
       "  </thead>\n",
       "  <tbody>\n",
       "    <tr>\n",
       "      <th>0</th>\n",
       "      <td>u16159</td>\n",
       "      <td>15/12/14 18:11</td>\n",
       "      <td>15/12/14 18:12</td>\n",
       "      <td>A00002/B00003/C00006/D28435/;A00002/B00003/C00...</td>\n",
       "      <td>female</td>\n",
       "    </tr>\n",
       "    <tr>\n",
       "      <th>1</th>\n",
       "      <td>u10253</td>\n",
       "      <td>16/12/14 14:35</td>\n",
       "      <td>16/12/14 14:41</td>\n",
       "      <td>A00001/B00009/C00031/D29404/;A00001/B00009/C00...</td>\n",
       "      <td>male</td>\n",
       "    </tr>\n",
       "    <tr>\n",
       "      <th>2</th>\n",
       "      <td>u19037</td>\n",
       "      <td>01/12/14 15:58</td>\n",
       "      <td>01/12/14 15:58</td>\n",
       "      <td>A00002/B00001/C00020/D16944/</td>\n",
       "      <td>female</td>\n",
       "    </tr>\n",
       "    <tr>\n",
       "      <th>3</th>\n",
       "      <td>u14556</td>\n",
       "      <td>23/11/14 2:57</td>\n",
       "      <td>23/11/14 3:00</td>\n",
       "      <td>A00002/B00004/C00018/D10284/;A00002/B00004/C00...</td>\n",
       "      <td>female</td>\n",
       "    </tr>\n",
       "    <tr>\n",
       "      <th>4</th>\n",
       "      <td>u24295</td>\n",
       "      <td>17/12/14 16:44</td>\n",
       "      <td>17/12/14 16:46</td>\n",
       "      <td>A00001/B00001/C00012/D30805/;A00001/B00001/C00...</td>\n",
       "      <td>male</td>\n",
       "    </tr>\n",
       "  </tbody>\n",
       "</table>\n",
       "</div>"
      ],
      "text/plain": [
       "  session_id       startTime         endTime  \\\n",
       "0     u16159  15/12/14 18:11  15/12/14 18:12   \n",
       "1     u10253  16/12/14 14:35  16/12/14 14:41   \n",
       "2     u19037  01/12/14 15:58  01/12/14 15:58   \n",
       "3     u14556   23/11/14 2:57   23/11/14 3:00   \n",
       "4     u24295  17/12/14 16:44  17/12/14 16:46   \n",
       "\n",
       "                                         ProductList  gender  \n",
       "0  A00002/B00003/C00006/D28435/;A00002/B00003/C00...  female  \n",
       "1  A00001/B00009/C00031/D29404/;A00001/B00009/C00...    male  \n",
       "2                       A00002/B00001/C00020/D16944/  female  \n",
       "3  A00002/B00004/C00018/D10284/;A00002/B00004/C00...  female  \n",
       "4  A00001/B00001/C00012/D30805/;A00001/B00001/C00...    male  "
      ]
     },
     "execution_count": 1796,
     "metadata": {},
     "output_type": "execute_result"
    }
   ],
   "source": [
    "train = pd.read_csv(f'{path}train_8wry4cB.csv')\n",
    "test = pd.read_csv(f'{path}test_Yix80N0.csv')\n",
    "train.head()"
   ]
  },
  {
   "cell_type": "code",
   "execution_count": 310,
   "metadata": {},
   "outputs": [
    {
     "name": "stdout",
     "output_type": "stream",
     "text": [
      "<class 'pandas.core.frame.DataFrame'>\n",
      "RangeIndex: 10500 entries, 0 to 10499\n",
      "Data columns (total 5 columns):\n",
      " #   Column       Non-Null Count  Dtype \n",
      "---  ------       --------------  ----- \n",
      " 0   session_id   10500 non-null  object\n",
      " 1   startTime    10500 non-null  object\n",
      " 2   endTime      10500 non-null  object\n",
      " 3   ProductList  10500 non-null  object\n",
      " 4   gender       10500 non-null  object\n",
      "dtypes: object(5)\n",
      "memory usage: 410.3+ KB\n"
     ]
    }
   ],
   "source": [
    "train.info()"
   ]
  },
  {
   "cell_type": "code",
   "execution_count": 311,
   "metadata": {},
   "outputs": [
    {
     "data": {
      "text/plain": [
       "female    8192\n",
       "male      2308\n",
       "Name: gender, dtype: int64"
      ]
     },
     "execution_count": 311,
     "metadata": {},
     "output_type": "execute_result"
    }
   ],
   "source": [
    "train.gender.value_counts()"
   ]
  },
  {
   "cell_type": "code",
   "execution_count": 312,
   "metadata": {},
   "outputs": [],
   "source": [
    "train['startTime'] = pd.to_datetime(train['startTime'])\n",
    "train['endTime']= pd.to_datetime(train['endTime'])\n",
    "\n",
    "train['gender'] = train.gender.astype('category')\n",
    "mapper = dict(enumerate(m1_train.gender.cat.categories))"
   ]
  },
  {
   "cell_type": "code",
   "execution_count": 313,
   "metadata": {},
   "outputs": [
    {
     "name": "stdout",
     "output_type": "stream",
     "text": [
      "<class 'pandas.core.frame.DataFrame'>\n",
      "RangeIndex: 10500 entries, 0 to 10499\n",
      "Data columns (total 5 columns):\n",
      " #   Column       Non-Null Count  Dtype         \n",
      "---  ------       --------------  -----         \n",
      " 0   session_id   10500 non-null  object        \n",
      " 1   startTime    10500 non-null  datetime64[ns]\n",
      " 2   endTime      10500 non-null  datetime64[ns]\n",
      " 3   ProductList  10500 non-null  object        \n",
      " 4   gender       10500 non-null  category      \n",
      "dtypes: category(1), datetime64[ns](2), object(2)\n",
      "memory usage: 338.6+ KB\n"
     ]
    }
   ],
   "source": [
    "train.info()"
   ]
  },
  {
   "cell_type": "code",
   "execution_count": 1736,
   "metadata": {},
   "outputs": [
    {
     "data": {
      "text/plain": [
       "CountVectorizer(analyzer='word', binary=True, decode_error='strict',\n",
       "                dtype=<class 'numpy.int64'>, encoding='utf-8', input='content',\n",
       "                lowercase=False, max_df=1.0, max_features=None, min_df=1,\n",
       "                ngram_range=(1, 1), preprocessor=None, stop_words=None,\n",
       "                strip_accents=None, token_pattern='(?u)\\\\b\\\\w\\\\w+\\\\b',\n",
       "                tokenizer=None, vocabulary=None)"
      ]
     },
     "execution_count": 1736,
     "metadata": {},
     "output_type": "execute_result"
    }
   ],
   "source": [
    "m2_train = train.copy()\n",
    "count_vect1 = CountVectorizer(lowercase=False, binary=True)\n",
    "count_vect1.fit(m2_train['ProductList'])"
   ]
  },
  {
   "cell_type": "code",
   "execution_count": 1737,
   "metadata": {},
   "outputs": [],
   "source": [
    "doc_array = count_vect1.transform(m2_train['ProductList']).toarray()\n",
    "frequency_matrix = pd.DataFrame(doc_array, columns = count_vect1.get_feature_names())"
   ]
  },
  {
   "cell_type": "code",
   "execution_count": 1738,
   "metadata": {},
   "outputs": [],
   "source": [
    "m2_train['unix_starttime'] = m2_train['startTime'].astype(np.int64) // 10**9\n",
    "m2_train['unix_endTime'] = m2_train['endTime'].astype(np.int64) // 10**9\n",
    "m2_train['duration_hrs'] = (m2_train['unix_endTime'] - m2_train['unix_starttime']) / 60"
   ]
  },
  {
   "cell_type": "code",
   "execution_count": 1739,
   "metadata": {},
   "outputs": [],
   "source": [
    "m2_train = pd.concat([m2_train, frequency_matrix], axis=1)"
   ]
  },
  {
   "cell_type": "code",
   "execution_count": 1740,
   "metadata": {},
   "outputs": [],
   "source": [
    "m2_train['Prod_count'] = m2_train['ProductList'].apply(lambda x: len(x.split(';')))"
   ]
  },
  {
   "cell_type": "code",
   "execution_count": 1756,
   "metadata": {},
   "outputs": [],
   "source": [
    "prods = m2_train[m2_train.columns[m2_train.columns.str.contains('D')]]\n",
    "cols_to_drop = list(m2_train.columns[:5]) + list(prods.columns)"
   ]
  },
  {
   "cell_type": "markdown",
   "metadata": {},
   "source": [
    "## Train-Test-Split"
   ]
  },
  {
   "cell_type": "code",
   "execution_count": 1757,
   "metadata": {},
   "outputs": [],
   "source": [
    "features = m2_train.drop(cols_to_drop, axis=1)\n",
    "target = m2_train.gender.cat.codes"
   ]
  },
  {
   "cell_type": "code",
   "execution_count": 1758,
   "metadata": {},
   "outputs": [],
   "source": [
    "X_train, X_valid, y_train, y_valid = train_test_split(features, target, stratify=target, shuffle=True ,random_state=42)"
   ]
  },
  {
   "cell_type": "markdown",
   "metadata": {},
   "source": [
    "## Models"
   ]
  },
  {
   "cell_type": "code",
   "execution_count": 1769,
   "metadata": {},
   "outputs": [
    {
     "data": {
      "text/plain": [
       "LogisticRegression(C=1.0, class_weight=None, dual=False, fit_intercept=True,\n",
       "                   intercept_scaling=1, l1_ratio=None, max_iter=100,\n",
       "                   multi_class='auto', n_jobs=-1, penalty='l1',\n",
       "                   random_state=None, solver='liblinear', tol=0.0001, verbose=0,\n",
       "                   warm_start=False)"
      ]
     },
     "execution_count": 1769,
     "metadata": {},
     "output_type": "execute_result"
    }
   ],
   "source": [
    "lr_binary = LogisticRegression(solver='liblinear', penalty='l1', n_jobs=-1)\n",
    "lr_binary.fit(X_train, y_train)"
   ]
  },
  {
   "cell_type": "code",
   "execution_count": 1760,
   "metadata": {},
   "outputs": [
    {
     "name": "stdout",
     "output_type": "stream",
     "text": [
      "Train score is 87.7587% \n",
      "Test score is 87.7714%\n"
     ]
    }
   ],
   "source": [
    "print('Train score is {:.4%} \\nTest score is {:.4%}'.format(lr_binary.score(X_train, y_train), lr_binary.score(X_valid, y_valid)))"
   ]
  },
  {
   "cell_type": "code",
   "execution_count": 1767,
   "metadata": {},
   "outputs": [
    {
     "name": "stdout",
     "output_type": "stream",
     "text": [
      "CV score: 87.31% (+/- 0.0062)\n"
     ]
    }
   ],
   "source": [
    "scores = cross_val(lr_binary, features, target)"
   ]
  },
  {
   "cell_type": "markdown",
   "metadata": {},
   "source": [
    "## Test Data"
   ]
  },
  {
   "cell_type": "code",
   "execution_count": 1743,
   "metadata": {},
   "outputs": [],
   "source": [
    "m1_test = test.copy()"
   ]
  },
  {
   "cell_type": "code",
   "execution_count": 1744,
   "metadata": {},
   "outputs": [],
   "source": [
    "doc_array = count_vect.transform(m1_test['ProductList']).toarray()\n",
    "frequency_matrix = pd.DataFrame(doc_array, columns = count_vect.get_feature_names())"
   ]
  },
  {
   "cell_type": "code",
   "execution_count": 1745,
   "metadata": {},
   "outputs": [],
   "source": [
    "m1_test = pd.concat([m1_test, frequency_matrix], axis=1)\n",
    "m1_test['Prod_count'] = m1_test['ProductList'].apply(lambda x: len(x.split(';')))"
   ]
  },
  {
   "cell_type": "code",
   "execution_count": 1746,
   "metadata": {},
   "outputs": [],
   "source": [
    "m1_test['startTime'] = pd.to_datetime(m1_test['startTime'])\n",
    "m1_test['endTime']= pd.to_datetime(m1_test['endTime'])"
   ]
  },
  {
   "cell_type": "code",
   "execution_count": 1747,
   "metadata": {},
   "outputs": [],
   "source": [
    "m1_test['unix_starttime'] = m1_test['startTime'].astype(np.int64) // 10**9\n",
    "m1_test['unix_endTime'] = m1_test['endTime'].astype(np.int64) // 10**9\n",
    "m1_test['duration_hrs'] = (m1_test['unix_endTime'] - m1_test['unix_starttime']) / 60"
   ]
  },
  {
   "cell_type": "code",
   "execution_count": 1748,
   "metadata": {},
   "outputs": [],
   "source": [
    "m1_test = m1_test.drop(prods, axis=1)"
   ]
  },
  {
   "cell_type": "code",
   "execution_count": 1749,
   "metadata": {},
   "outputs": [],
   "source": [
    "test_cols = m1_test[m1_test.columns[4:]].columns"
   ]
  },
  {
   "cell_type": "code",
   "execution_count": 1768,
   "metadata": {},
   "outputs": [],
   "source": [
    "preds = lr_binary.predict(m1_test[test_cols])\n",
    "submissions = test[['session_id']]\n",
    "submissions['gender'] = preds\n",
    "submissions['gender'] = submissions['gender'].map(mapper)"
   ]
  },
  {
   "cell_type": "code",
   "execution_count": 1762,
   "metadata": {},
   "outputs": [],
   "source": [
    "submissions.to_csv('subms/lr-liblinear.csv', index=False)"
   ]
  },
  {
   "cell_type": "markdown",
   "metadata": {},
   "source": [
    "## Should have tried"
   ]
  },
  {
   "cell_type": "code",
   "execution_count": 1731,
   "metadata": {},
   "outputs": [],
   "source": [
    "# def max_count_product(List):\n",
    "#     return max(set(List), key=List.count)\n",
    "\n",
    "# def product_group(x):\n",
    "#     product_cat = [i.split('/')[-2][:4] for i in x.split(';')]\n",
    "#     return max_count_product(product_cat)"
   ]
  },
  {
   "cell_type": "code",
   "execution_count": 1733,
   "metadata": {},
   "outputs": [],
   "source": [
    "# m2_train['ProductList'].apply(lambda x: product_group(x))"
   ]
  },
  {
   "cell_type": "code",
   "execution_count": 1795,
   "metadata": {},
   "outputs": [
    {
     "name": "stdout",
     "output_type": "stream",
     "text": [
      "CV score: 90.95% (+/- 0.0042)\n",
      "Accuracy score is 91.815%\n"
     ]
    }
   ],
   "source": [
    "%run alternate-approach.py"
   ]
  }
 ],
 "metadata": {
  "kernelspec": {
   "display_name": "Python 3",
   "language": "python",
   "name": "python3"
  },
  "language_info": {
   "codemirror_mode": {
    "name": "ipython",
    "version": 3
   },
   "file_extension": ".py",
   "mimetype": "text/x-python",
   "name": "python",
   "nbconvert_exporter": "python",
   "pygments_lexer": "ipython3",
   "version": "3.7.6"
  }
 },
 "nbformat": 4,
 "nbformat_minor": 4
}
